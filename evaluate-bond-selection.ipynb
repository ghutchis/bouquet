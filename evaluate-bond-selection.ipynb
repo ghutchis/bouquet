{
 "cells": [
  {
   "cell_type": "markdown",
   "id": "beb6810e",
   "metadata": {},
   "source": [
    "# Evaluate for Identifying which Dihedrals to Rotate\n",
    "Figuring out which bonds to rotate can be tricky. This notebook runs our code on an arbitrary molecule so we can figure out if the code is working"
   ]
  },
  {
   "cell_type": "code",
   "execution_count": 1,
   "id": "0ac211ca",
   "metadata": {},
   "outputs": [],
   "source": [
    "from confopt.assess import get_initial_structure, get_bonding_graph, detect_dihedrals\n",
    "import pybel"
   ]
  },
  {
   "cell_type": "code",
   "execution_count": 2,
   "id": "b813eafd",
   "metadata": {},
   "outputs": [],
   "source": [
    "atoms, mol = get_initial_structure('CN(C)C1=C(N(C)C)[C+]1S')"
   ]
  },
  {
   "cell_type": "code",
   "execution_count": 3,
   "id": "9ce94759",
   "metadata": {},
   "outputs": [
    {
     "data": {
      "text/plain": [
       "[DihedralInfo(chain=[10, 0, 1, 2], group={1, 2, 3, 4, 5, 6, 7, 8, 9, 13, 14, 15, 16, 17, 18, 19, 20, 21, 22}),\n",
       " DihedralInfo(chain=[0, 1, 2, 13], group={2, 13, 14, 15}),\n",
       " DihedralInfo(chain=[0, 1, 3, 4], group={3, 4, 5, 6, 7, 8, 9, 16, 17, 18, 19, 20, 21, 22}),\n",
       " DihedralInfo(chain=[3, 4, 5, 6], group={5, 6, 7, 16, 17, 18, 19, 20, 21}),\n",
       " DihedralInfo(chain=[4, 5, 6, 16], group={16, 17, 18, 6}),\n",
       " DihedralInfo(chain=[4, 5, 7, 19], group={19, 20, 21, 7}),\n",
       " DihedralInfo(chain=[3, 8, 9, 22], group={9, 22}),\n",
       " DihedralInfo(chain=[1, 3, 4, 5], group={0, 1, 2, 10, 11, 12, 13, 14, 15}),\n",
       " DihedralInfo(chain=[5, 4, 8, 3], group={5, 6, 7, 16, 17, 18, 19, 20, 21}),\n",
       " DihedralInfo(chain=[9, 8, 4, 3], group={9, 22})]"
      ]
     },
     "execution_count": 3,
     "metadata": {},
     "output_type": "execute_result"
    }
   ],
   "source": [
    "detect_dihedrals(mol, True)"
   ]
  },
  {
   "cell_type": "code",
   "execution_count": 4,
   "id": "8b7cff0a",
   "metadata": {},
   "outputs": [
    {
     "data": {
      "image/svg+xml": [
       "<svg xmlns=\"http://www.w3.org/2000/svg\" font-family=\"sans-serif\" height=\"100\" stroke=\"rgb(0,0,0)\" stroke-linecap=\"round\" stroke-width=\"2\" viewBox=\"0 0 333.205 269.282\" width=\"100\" x=\"0\" y=\"0\">\n",
       "<line stroke=\"rgb(0,0,0)\" stroke-width=\"2.0\" x1=\"223.9\" x2=\"223.9\" y1=\"194.6\" y2=\"167.6\" />\n",
       "<line stroke=\"rgb(0,0,0)\" stroke-width=\"2.0\" x1=\"235.2\" x2=\"258.6\" y1=\"148.1\" y2=\"134.6\" />\n",
       "<line stroke=\"rgb(0,0,0)\" stroke-width=\"2.0\" x1=\"212.7\" x2=\"189.3\" y1=\"148.1\" y2=\"134.6\" />\n",
       "<line stroke=\"rgb(0,0,0)\" stroke-width=\"2.0\" x1=\"149.3\" x2=\"125.9\" y1=\"134.6\" y2=\"148.1\" />\n",
       "<line stroke=\"rgb(0,0,0)\" stroke-width=\"2.0\" x1=\"103.4\" x2=\"80.0\" y1=\"148.1\" y2=\"134.6\" />\n",
       "<line stroke=\"rgb(0,0,0)\" stroke-width=\"2.0\" x1=\"114.6\" x2=\"114.6\" y1=\"167.6\" y2=\"194.6\" />\n",
       "<line stroke=\"rgb(0,0,0)\" stroke-width=\"2.0\" x1=\"169.3\" x2=\"169.3\" y1=\"100.0\" y2=\"73.0\" />\n",
       "<line stroke=\"rgb(0,0,0)\" stroke-width=\"2.0\" x1=\"223.9\" x2=\"237.4\" y1=\"194.6\" y2=\"218.0\" />\n",
       "<line stroke=\"rgb(0,0,0)\" stroke-width=\"2.0\" x1=\"223.9\" x2=\"250.9\" y1=\"194.6\" y2=\"194.6\" />\n",
       "<line stroke=\"rgb(0,0,0)\" stroke-width=\"2.0\" x1=\"223.9\" x2=\"200.5\" y1=\"194.6\" y2=\"208.1\" />\n",
       "<line stroke=\"rgb(0,0,0)\" stroke-width=\"2.0\" x1=\"258.6\" x2=\"272.1\" y1=\"134.6\" y2=\"111.3\" />\n",
       "<line stroke=\"rgb(0,0,0)\" stroke-width=\"2.0\" x1=\"258.6\" x2=\"245.1\" y1=\"134.6\" y2=\"111.3\" />\n",
       "<line stroke=\"rgb(0,0,0)\" stroke-width=\"2.0\" x1=\"258.6\" x2=\"281.9\" y1=\"134.6\" y2=\"148.1\" />\n",
       "<line stroke=\"rgb(0,0,0)\" stroke-width=\"2.0\" x1=\"80.0\" x2=\"53.0\" y1=\"134.6\" y2=\"134.6\" />\n",
       "<line stroke=\"rgb(0,0,0)\" stroke-width=\"2.0\" x1=\"80.0\" x2=\"66.5\" y1=\"134.6\" y2=\"158.0\" />\n",
       "<line stroke=\"rgb(0,0,0)\" stroke-width=\"2.0\" x1=\"80.0\" x2=\"80.0\" y1=\"134.6\" y2=\"107.6\" />\n",
       "<line stroke=\"rgb(0,0,0)\" stroke-width=\"2.0\" x1=\"114.6\" x2=\"128.1\" y1=\"194.6\" y2=\"218.0\" />\n",
       "<line stroke=\"rgb(0,0,0)\" stroke-width=\"2.0\" x1=\"114.6\" x2=\"141.6\" y1=\"194.6\" y2=\"194.6\" />\n",
       "<line stroke=\"rgb(0,0,0)\" stroke-width=\"2.0\" x1=\"114.6\" x2=\"91.3\" y1=\"194.6\" y2=\"208.1\" />\n",
       "<line stroke=\"rgb(0,0,0)\" stroke-width=\"2.0\" x1=\"180.5\" x2=\"192.7\" y1=\"53.5\" y2=\"46.5\" />\n",
       "<line stroke=\"rgb(0,0,0)\" stroke-width=\"2.0\" x1=\"169.3\" x2=\"189.3\" y1=\"100.0\" y2=\"134.6\" />\n",
       "<line stroke=\"rgb(0,0,0)\" stroke-width=\"2.0\" x1=\"189.3\" x2=\"149.3\" y1=\"134.6\" y2=\"134.6\" />\n",
       "<line stroke=\"rgb(0,0,0)\" stroke-width=\"2.0\" x1=\"183.3\" x2=\"155.3\" y1=\"127.4\" y2=\"127.4\" />\n",
       "<line stroke=\"rgb(0,0,0)\" stroke-width=\"2.0\" x1=\"149.3\" x2=\"169.3\" y1=\"134.6\" y2=\"100.0\" />\n",
       "<text fill=\"rgb(191,191,191)\" font-size=\"16\" stroke=\"rgb(191,191,191)\" stroke-width=\"1\" x=\"257.923048\" y=\"202.641016\">H</text>\n",
       "<text fill=\"rgb(191,191,191)\" font-size=\"16\" stroke=\"rgb(191,191,191)\" stroke-width=\"1\" x=\"197.923048\" y=\"48.000000\">H</text>\n",
       "<text fill=\"rgb(191,191,191)\" font-size=\"16\" stroke=\"rgb(191,191,191)\" stroke-width=\"1\" x=\"74.000000\" y=\"222.641016\">H</text>\n",
       "<text fill=\"rgb(191,191,191)\" font-size=\"16\" stroke=\"rgb(191,191,191)\" stroke-width=\"1\" x=\"148.641016\" y=\"202.641016\">H</text>\n",
       "<text fill=\"rgb(191,191,191)\" font-size=\"16\" stroke=\"rgb(191,191,191)\" stroke-width=\"1\" x=\"128.641016\" y=\"237.282032\">H</text>\n",
       "<text fill=\"rgb(191,191,191)\" font-size=\"16\" stroke=\"rgb(191,191,191)\" stroke-width=\"1\" x=\"74.000000\" y=\"102.641016\">H</text>\n",
       "<text fill=\"rgb(191,191,191)\" font-size=\"16\" stroke=\"rgb(191,191,191)\" stroke-width=\"1\" x=\"54.000000\" y=\"177.282032\">H</text>\n",
       "<text fill=\"rgb(191,191,191)\" font-size=\"16\" stroke=\"rgb(191,191,191)\" stroke-width=\"1\" x=\"34.000000\" y=\"142.641016\">H</text>\n",
       "<text fill=\"rgb(191,191,191)\" font-size=\"16\" stroke=\"rgb(191,191,191)\" stroke-width=\"1\" x=\"287.205081\" y=\"162.641016\">H</text>\n",
       "<text fill=\"rgb(191,191,191)\" font-size=\"16\" stroke=\"rgb(191,191,191)\" stroke-width=\"1\" x=\"232.564065\" y=\"108.000000\">H</text>\n",
       "<text fill=\"rgb(191,191,191)\" font-size=\"16\" stroke=\"rgb(191,191,191)\" stroke-width=\"1\" x=\"272.564065\" y=\"108.000000\">H</text>\n",
       "<text fill=\"rgb(191,191,191)\" font-size=\"16\" stroke=\"rgb(191,191,191)\" stroke-width=\"1\" x=\"183.282032\" y=\"222.641016\">H</text>\n",
       "<text fill=\"rgb(191,191,191)\" font-size=\"16\" stroke=\"rgb(191,191,191)\" stroke-width=\"1\" x=\"237.923048\" y=\"237.282032\">H</text>\n",
       "<text fill=\"rgb(178,178,0)\" font-size=\"16\" stroke=\"rgb(178,178,0)\" stroke-width=\"1\" x=\"163.282032\" y=\"68.000000\">S</text>\n",
       "<text fill=\"rgb(102,102,102)\" font-size=\"16\" stroke=\"rgb(102,102,102)\" stroke-width=\"1\" x=\"174.082032\" y=\"95.968000\">+</text>\n",
       "<text fill=\"rgb(12,12,255)\" font-size=\"16\" stroke=\"rgb(12,12,255)\" stroke-width=\"1\" x=\"108.641016\" y=\"162.641016\">N</text>\n",
       "<text fill=\"rgb(12,12,255)\" font-size=\"16\" stroke=\"rgb(12,12,255)\" stroke-width=\"1\" x=\"217.923048\" y=\"162.641016\">N</text>\n",
       "</svg>\n"
      ],
      "text/plain": [
       "<pybel.Molecule at 0x7f046f8e2a90>"
      ]
     },
     "execution_count": 4,
     "metadata": {},
     "output_type": "execute_result"
    }
   ],
   "source": [
    "mol"
   ]
  },
  {
   "cell_type": "code",
   "execution_count": null,
   "id": "3c87dffb",
   "metadata": {},
   "outputs": [],
   "source": []
  }
 ],
 "metadata": {
  "kernelspec": {
   "display_name": "Python 3",
   "language": "python",
   "name": "python3"
  },
  "language_info": {
   "codemirror_mode": {
    "name": "ipython",
    "version": 3
   },
   "file_extension": ".py",
   "mimetype": "text/x-python",
   "name": "python",
   "nbconvert_exporter": "python",
   "pygments_lexer": "ipython3",
   "version": "3.7.10"
  }
 },
 "nbformat": 4,
 "nbformat_minor": 5
}
